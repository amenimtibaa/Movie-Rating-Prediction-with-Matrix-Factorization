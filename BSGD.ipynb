{
  "nbformat": 4,
  "nbformat_minor": 0,
  "metadata": {
    "colab": {
      "name": "BSGD.ipynb",
      "provenance": [],
      "collapsed_sections": [],
      "include_colab_link": true
    },
    "kernelspec": {
      "name": "python3",
      "display_name": "Python 3"
    },
    "accelerator": "GPU"
  },
  "cells": [
    {
      "cell_type": "markdown",
      "metadata": {
        "id": "view-in-github",
        "colab_type": "text"
      },
      "source": [
        "<a href=\"https://colab.research.google.com/github/amenimtibaa/Movie-Rating-Prediction-with-Matrix-Factorization/blob/master/BSGD.ipynb\" target=\"_parent\"><img src=\"https://colab.research.google.com/assets/colab-badge.svg\" alt=\"Open In Colab\"/></a>"
      ]
    },
    {
      "cell_type": "markdown",
      "metadata": {
        "id": "YniYLTTWp8IJ",
        "colab_type": "text"
      },
      "source": [
        "# ***movielens recommendation project : Matrix Factorization with Biased Stochastic Gradient Descent (BSGD)***\n",
        "\n",
        "\n",
        "\n"
      ]
    },
    {
      "cell_type": "code",
      "metadata": {
        "id": "Etr9Ba4r-Cgr",
        "colab_type": "code",
        "colab": {}
      },
      "source": [
        "%matplotlib inline\n",
        "from datetime import datetime\n",
        "from sklearn.metrics import mean_squared_error\n",
        "from sklearn.model_selection import KFold\n",
        "import matplotlib.pyplot as plt\n",
        "import numpy as np\n",
        "import pandas as pd"
      ],
      "execution_count": 0,
      "outputs": []
    },
    {
      "cell_type": "markdown",
      "metadata": {
        "id": "Gt7mgJVCrETs",
        "colab_type": "text"
      },
      "source": [
        "## Code of BSGD"
      ]
    },
    {
      "cell_type": "markdown",
      "metadata": {
        "id": "7Hsf4A5Bqczd",
        "colab_type": "text"
      },
      "source": [
        "### install movielens on colab\n",
        "\n"
      ]
    },
    {
      "cell_type": "code",
      "metadata": {
        "id": "pc41xi1hKn8q",
        "colab_type": "code",
        "outputId": "5e1e1716-9e3d-4cfd-9b96-34b2a312c552",
        "colab": {
          "base_uri": "https://localhost:8080/",
          "height": 472
        }
      },
      "source": [
        "!curl -O http://files.grouplens.org/datasets/movielens/ml-100k.zip\n",
        "!unzip ml-100k.zip\n",
        "!cd ml-100k/"
      ],
      "execution_count": 0,
      "outputs": [
        {
          "output_type": "stream",
          "text": [
            "  % Total    % Received % Xferd  Average Speed   Time    Time     Time  Current\n",
            "                                 Dload  Upload   Total   Spent    Left  Speed\n",
            "100 4808k  100 4808k    0     0  2462k      0  0:00:01  0:00:01 --:--:-- 2460k\n",
            "Archive:  ml-100k.zip\n",
            "   creating: ml-100k/\n",
            "  inflating: ml-100k/allbut.pl       \n",
            "  inflating: ml-100k/mku.sh          \n",
            "  inflating: ml-100k/README          \n",
            "  inflating: ml-100k/u.data          \n",
            "  inflating: ml-100k/u.genre         \n",
            "  inflating: ml-100k/u.info          \n",
            "  inflating: ml-100k/u.item          \n",
            "  inflating: ml-100k/u.occupation    \n",
            "  inflating: ml-100k/u.user          \n",
            "  inflating: ml-100k/u1.base         \n",
            "  inflating: ml-100k/u1.test         \n",
            "  inflating: ml-100k/u2.base         \n",
            "  inflating: ml-100k/u2.test         \n",
            "  inflating: ml-100k/u3.base         \n",
            "  inflating: ml-100k/u3.test         \n",
            "  inflating: ml-100k/u4.base         \n",
            "  inflating: ml-100k/u4.test         \n",
            "  inflating: ml-100k/u5.base         \n",
            "  inflating: ml-100k/u5.test         \n",
            "  inflating: ml-100k/ua.base         \n",
            "  inflating: ml-100k/ua.test         \n",
            "  inflating: ml-100k/ub.base         \n",
            "  inflating: ml-100k/ub.test         \n"
          ],
          "name": "stdout"
        }
      ]
    },
    {
      "cell_type": "markdown",
      "metadata": {
        "id": "d1qR7gogqrdg",
        "colab_type": "text"
      },
      "source": [
        "### load movielens into a dataframe"
      ]
    },
    {
      "cell_type": "code",
      "metadata": {
        "id": "KSDuGHo0-K4c",
        "colab_type": "code",
        "colab": {}
      },
      "source": [
        "names = ['user_id', 'item_id', 'rating','timestamp']\n",
        "ratings_df = pd.read_csv('ml-100k/u.data', sep='\\t', names=names)\n"
      ],
      "execution_count": 0,
      "outputs": []
    },
    {
      "cell_type": "markdown",
      "metadata": {
        "id": "ez8qimXbqvjj",
        "colab_type": "text"
      },
      "source": [
        "### Split database into train and test"
      ]
    },
    {
      "cell_type": "code",
      "metadata": {
        "id": "g51EgGPKGQtf",
        "colab_type": "code",
        "colab": {}
      },
      "source": [
        "train_data = ratings_df.iloc[:int((len(ratings_df))*0.8),:3] # Splits 80% to training set\n",
        "test_data = ratings_df.iloc[int(len(ratings_df)*0.8):,:3] # Remaining 20% data to test set\n",
        "ratings_df=train_data"
      ],
      "execution_count": 0,
      "outputs": []
    },
    {
      "cell_type": "markdown",
      "metadata": {
        "id": "ogN-0j_Tq1eS",
        "colab_type": "text"
      },
      "source": [
        "### Function to generate a ratings matrix and mappings for the user and item ids to the row and column indices "
      ]
    },
    {
      "cell_type": "code",
      "metadata": {
        "id": "FfiNl6Uzrt5Q",
        "colab_type": "code",
        "colab": {}
      },
      "source": [
        "def get_rating_matrix(X):\n",
        "    \"\"\"\n",
        "    Returns\n",
        "    -------\n",
        "    rating_matrix : 2d numpy array, shape=(n_users, n_items)\n",
        "    user_map : pandas Series, shape=(n_users,)\n",
        "        Mapping from the original user id to an integer in the range [0,n_users)\n",
        "    item_map : pandas Series, shape=(n_items,)\n",
        "        Mapping from the original item id to an integer in the range [0,n_items)\n",
        "    \"\"\"\n",
        "    user_col, item_col, rating_col = X.columns[:3]\n",
        "    rating = X[rating_col]\n",
        "    user_map = pd.Series(\n",
        "        index=np.unique(X[user_col]),\n",
        "        data=np.arange(X[user_col].nunique()),\n",
        "        name='user_map',\n",
        "    )\n",
        "    item_map = pd.Series(\n",
        "        index=np.unique(X[item_col]),\n",
        "        data=np.arange(X[item_col].nunique()),\n",
        "        name='columns_map',\n",
        "    )\n",
        "    user_inds = X[user_col].map(user_map)\n",
        "    item_inds = X[item_col].map(item_map)\n",
        "    rating_matrix = (\n",
        "        pd.pivot_table(\n",
        "            data=X,\n",
        "            values=rating_col,\n",
        "            index=user_inds,\n",
        "            columns=item_inds,\n",
        "        )\n",
        "        .fillna(0)\n",
        "        .values\n",
        "    )\n",
        "    return rating_matrix, user_map, item_map\n"
      ],
      "execution_count": 0,
      "outputs": []
    },
    {
      "cell_type": "markdown",
      "metadata": {
        "id": "9egEyMRJq9iO",
        "colab_type": "text"
      },
      "source": [
        "### Inititialize user/item bias"
      ]
    },
    {
      "cell_type": "code",
      "metadata": {
        "id": "lcR5XhJ3CwZr",
        "colab_type": "code",
        "colab": {}
      },
      "source": [
        "class InitBias():\n",
        "  def __init__(self, X):\n",
        "    \"\"\"\n",
        "    Init the bias of rating term: \n",
        "        b_i,j= mu + b_u + b_i \n",
        "\n",
        "    mu : Average rating over all training samples\n",
        "    b_u :User bias, shape = [n_users]\n",
        "        \n",
        "    b_i : Movie bias, shape = [n_movies] \n",
        "    \"\"\"\n",
        "    X = X.iloc[:, :3].copy()\n",
        "    X.columns = ['user', 'item', 'rating']\n",
        "    mu = np.mean(X['rating'])\n",
        "    user_counts = X['user'].value_counts() #counts of unique values\n",
        "    movie_counts = X['item'].value_counts()\n",
        "    b_u = (\n",
        "        X[['user', 'rating']]\n",
        "        .groupby('user')['rating']\n",
        "        .sum()\n",
        "        .subtract(user_counts * mu)\n",
        "        .divide(user_counts )\n",
        "        .rename('b_u')\n",
        "    )\n",
        "    X = X.join(b_u, on='user')\n",
        "    X['item_residual'] = X['rating'] - X['b_u'] - mu\n",
        "    b_i = (\n",
        "        X[['item', 'item_residual']]\n",
        "        .groupby('item')['item_residual']\n",
        "        .sum()\n",
        "        .divide(movie_counts )\n",
        "        .rename('b_i')\n",
        "    )\n",
        "    self.b_u = b_u\n",
        "    self.b_i = b_i\n",
        "    self.mu=mu\n",
        "      \n",
        "  def predict_unkown(self, X):\n",
        "      \"\"\"\n",
        "      Return rating predictions for unkown user or items \n",
        "        (solve the cold start problem)\n",
        "      \"\"\"\n",
        "      X = X.iloc[:, :2].copy()\n",
        "      X.columns = ['user', 'item']\n",
        "      X = X.join(self.b_u, on='user').fillna(0)\n",
        "      X = X.join(self.b_i, on='item').fillna(0)\n",
        "      return (self.mu + X['b_u'] + X['b_i']).values\n"
      ],
      "execution_count": 0,
      "outputs": []
    },
    {
      "cell_type": "markdown",
      "metadata": {
        "id": "MI2VT4yZrUOj",
        "colab_type": "text"
      },
      "source": [
        "### Biased stochasitc gradient descent algorithm "
      ]
    },
    {
      "cell_type": "code",
      "metadata": {
        "id": "66-_q-CG-MmS",
        "colab_type": "code",
        "colab": {}
      },
      "source": [
        "class Biased_SGD():\n",
        "\n",
        "  def __init__(self, k=5, learning_rate=0.1, max_epochs=15,\n",
        "                user_reg=0.0, item_reg=0.0, user_bias_reg=0.0, item_bias_reg=0.0):\n",
        "    \"\"\" initialize gradient parameters\"\"\"\n",
        "\n",
        "    #Number of latent features\n",
        "    self.k = k\n",
        "    #Speed at which to descend down gradient\n",
        "    self.learning_rate = learning_rate\n",
        "    #Max number of iterations to run\n",
        "    self.max_epochs = max_epochs\n",
        "    #Regularization parameter for the latent feature weights in U, >=0\n",
        "    self.user_reg = user_reg\n",
        "    #Regularization parameter for the latent feature weights in I, >=0\n",
        "    self.item_reg = item_reg\n",
        "    #Regularization parameter for the b_u terms, >=0\n",
        "    self.user_bias_reg = user_bias_reg\n",
        "    #Regularization parameter for the b_i terms, >=0\n",
        "    self.item_bias_reg = item_bias_reg\n",
        "    #User matrix\n",
        "    self.U = None\n",
        "    #Item matrix\n",
        "    self.I = None\n",
        "    #Current epoch\n",
        "    self.epoch = 0\n",
        "\n",
        "  def _calc_train_error(self, U, I, mu, b_u, b_i, R):\n",
        "    \"\"\" compute RMSE error\"\"\" \n",
        "    R_selector = (R > 0)\n",
        "    R_hat = np.dot(U, I.T) + mu + b_u[:, None] + b_i[None, :]\n",
        "    error = np.sqrt(np.sum(R_selector * pow((R_hat - R),2)) / np.sum(R_selector))\n",
        "    return error\n",
        "\n",
        "  def _fit_init(self, X):\n",
        "    \"\"\"compute the gradient descent parameters\"\"\"\n",
        "    user_col, item_col, rating_col = X.columns[:3]\n",
        "    self.BiasInit = InitBias(X=X)\n",
        "    self.b_u, self.b_i, self.mu = self.BiasInit.b_u.values, self.BiasInit.b_i.values, self.BiasInit.mu\n",
        "    self.R, self.user_map, self.item_map = get_rating_matrix(X)\n",
        "    n_users, n_items = self.R.shape\n",
        "    self.U = np.random.normal(scale=1.0/self.k, size=(n_users, self.k))\n",
        "    self.I = np.random.normal(scale=1.0/self.k, size=(n_items, self.k))\n",
        "    self.train_errors = []\n",
        "    self.error=0\n",
        "\n",
        "  def fit(self, X,n_epochs=1):\n",
        "    \"\"\" Train the gradient descent algorithm \"\"\"\n",
        "    X = X.copy()\n",
        "    X.iloc[:, 0] = X.iloc[:, 0].map(self.user_map)\n",
        "    X.iloc[:, 1] = X.iloc[:, 1].map(self.item_map)\n",
        "    for i_epoch in range(n_epochs):\n",
        "        #Shuffle data\n",
        "        X = X.sample(frac=1) \n",
        "        for row in X.itertuples():\n",
        "            index, user, item, rating = row[:4]\n",
        "            #Get the predicted value\n",
        "            pred = self.predict_1_train(user, item)\n",
        "            err = pred - self.R[user, item]\n",
        "            #Update user bias\n",
        "            self.b_u[user] -= self.learning_rate * (err + self.user_bias_reg * self.b_u[user])\n",
        "            #Update movie bias\n",
        "            self.b_i[item] -= self.learning_rate * (err + self.item_bias_reg * self.b_i[item])\n",
        "            #Update user matrix\n",
        "            self.U[user, :] -= self.learning_rate * (\n",
        "                err * self.I[item, :] + self.user_reg * self.U[user, :]\n",
        "            )\n",
        "            #Update item matrix\n",
        "            self.I[item, :] -= self.learning_rate * (\n",
        "                err * self.U[user, :] + self.item_reg * self.I[item, :]\n",
        "            )\n",
        "        #compute the overeall error\n",
        "        self.error = self._calc_train_error(self.U, self.I, self.mu, self.b_u, self.b_i, self.R)\n",
        "        self.train_errors.append(self.error)\n",
        "        self.epoch += 1\n",
        "    return self\n",
        "\n",
        "  def predict_1_train(self, user, item):\n",
        "    \"\"\" prediction value for 1 known user/item pair \"\"\"\n",
        "    pred = self.mu + self.b_u[user] + self.b_i[item]\n",
        "    pred += np.dot(self.U[user, :], self.I[item, :])\n",
        "    return pred\n",
        "\n",
        "  def predict(self, X):\n",
        "    \"\"\" Generate predictions for the overall user/item pairs \"\"\"\n",
        "    X = X.copy()\n",
        "    user_col, item_col = X.columns[:2]\n",
        "    #mask to distinguish known users/items and unkown users/items\n",
        "    known_user_and_item_mask = (\n",
        "        X[user_col].isin(self.user_map.index) & X[item_col].isin(self.item_map.index)\n",
        "    )\n",
        "    #Separate known users/items and unkown users/items\n",
        "    X_known, X_unknown = X[known_user_and_item_mask], X[~known_user_and_item_mask]\n",
        "    #Get user indices of known users\n",
        "    user_inds = X_known[user_col].map(self.user_map)\n",
        "    #Get item indices of known items\n",
        "    item_inds = X_known[item_col].map(self.item_map)\n",
        "    #compute ratings for known users/items\n",
        "    rating_pred = np.array([\n",
        "        self.predict_1_train(u_ind, i_ind)\n",
        "        for u_ind, i_ind in zip(user_inds, item_inds)\n",
        "    ])\n",
        "    X.loc[known_user_and_item_mask, 'rating'] = rating_pred\n",
        "    #compute ratings for unknown users/items\n",
        "    X.loc[~known_user_and_item_mask, 'rating'] = self.BiasInit.predict_unkown(X_unknown)\n",
        "    return X['rating'].values"
      ],
      "execution_count": 0,
      "outputs": []
    },
    {
      "cell_type": "markdown",
      "metadata": {
        "id": "-Y0kk0R6rYSK",
        "colab_type": "text"
      },
      "source": [
        "## Hyperparameters Tuning (using 5-fold cross validation)"
      ]
    },
    {
      "cell_type": "markdown",
      "metadata": {
        "id": "oaDxe1rRrfMO",
        "colab_type": "text"
      },
      "source": [
        "### Number of epoch"
      ]
    },
    {
      "cell_type": "code",
      "metadata": {
        "id": "hdQ3SFEOKgwH",
        "colab_type": "code",
        "outputId": "bfca5cb7-c152-4114-f094-98561f8d08a4",
        "colab": {
          "base_uri": "https://localhost:8080/",
          "height": 98
        }
      },
      "source": [
        "n_splits = 5\n",
        "max_epochs = 30\n",
        "k = 20\n",
        "lr=0.01\n",
        "reg=0\n",
        "kf = KFold(n_splits=n_splits, random_state=0, shuffle=True)\n",
        "train_errs = np.zeros((n_splits, max_epochs))\n",
        "test_errs = np.zeros((n_splits, max_epochs))\n",
        "for i_fold, (train_inds, test_inds) in enumerate(kf.split(ratings_df)):\n",
        "    print(\"i_fold={}\".format(i_fold))\n",
        "    train_df, test_df = ratings_df.iloc[train_inds], ratings_df.iloc[test_inds]\n",
        "    rec = Biased_SGD(k=k, learning_rate=lr, user_reg=reg, item_reg=reg,\n",
        "                         user_bias_reg=reg, item_bias_reg=reg, max_epochs=max_epochs)\n",
        "    rec._fit_init(train_df)\n",
        "    for i_epoch in range(max_epochs):\n",
        "        rec.fit(train_df, n_epochs=1)\n",
        "        preds = rec.predict(test_df[['user_id', 'item_id']])\n",
        "        test_err = np.sqrt(mean_squared_error(preds, test_df['rating']))\n",
        "        test_errs[i_fold, i_epoch] = test_err\n",
        "    train_errs[i_fold, :] = np.array(rec.train_errors)"
      ],
      "execution_count": 0,
      "outputs": [
        {
          "output_type": "stream",
          "text": [
            "i_fold=0\n",
            "i_fold=1\n",
            "i_fold=2\n",
            "i_fold=3\n",
            "i_fold=4\n"
          ],
          "name": "stdout"
        }
      ]
    },
    {
      "cell_type": "code",
      "metadata": {
        "id": "dtcRFg-CkRc5",
        "colab_type": "code",
        "outputId": "5e76db47-2043-491a-8f0f-5814ecdd11ed",
        "colab": {
          "base_uri": "https://localhost:8080/",
          "height": 297
        }
      },
      "source": [
        "#plot\n",
        "train_avg, train_std = train_errs.mean(axis=0), train_errs.std(axis=0)\n",
        "test_avg, test_std = test_errs.mean(axis=0), test_errs.std(axis=0)\n",
        "plt.plot(np.arange(max_epochs), train_avg, label='Train Error')\n",
        "plt.plot(np.arange(max_epochs), test_avg, label='K-CV Error')\n",
        "plt.legend()\n",
        "plt.xlabel('Epoch')\n",
        "plt.ylabel('RMSE')\n",
        "plt.title('5-fold CV, for $k={}, lr= {}, reg={}$'.format(k,lr,reg))\n",
        "plt.show()"
      ],
      "execution_count": 0,
      "outputs": [
        {
          "output_type": "display_data",
          "data": {
            "image/png": "[encoded data removed]",
            "text/plain": [
              "<Figure size 432x288 with 1 Axes>"
            ]
          },
          "metadata": {
            "tags": []
          }
        }
      ]
    },
    {
      "cell_type": "markdown",
      "metadata": {
        "id": "-WRM3ufyrtV9",
        "colab_type": "text"
      },
      "source": [
        "### Number of latent features"
      ]
    },
    {
      "cell_type": "code",
      "metadata": {
        "id": "P3RIQT8aaVEO",
        "colab_type": "code",
        "outputId": "c936e89c-c720-4858-bca9-23735707ffce",
        "colab": {
          "base_uri": "https://localhost:8080/",
          "height": 98
        }
      },
      "source": [
        "n_splits = 5\n",
        "max_epochs = 12\n",
        "lr=0.01\n",
        "reg=0\n",
        "kf = KFold(n_splits=n_splits, random_state=0, shuffle=True)\n",
        "k_list = [1, 5, 10, 20, 50, 90, 120]\n",
        "train_errs = np.zeros((n_splits, len(k_list)))\n",
        "test_errs = np.zeros((n_splits, len(k_list)))\n",
        "for i_fold, (train_inds, test_inds) in enumerate(kf.split(ratings_df)):\n",
        "    print(\"i_fold={}: \".format(i_fold), end='')\n",
        "    train_df, test_df = ratings_df.iloc[train_inds], ratings_df.iloc[test_inds]\n",
        "    for i_k, k in enumerate(k_list):\n",
        "        print(\"k={}, \".format(k), end='')\n",
        "        rec = Biased_SGD(k=k, learning_rate=lr, user_reg=reg, item_reg=reg,\n",
        "                         user_bias_reg=reg, item_bias_reg=reg, max_epochs=max_epochs)\n",
        "        rec._fit_init(train_df)\n",
        "        rec.fit(train_df, n_epochs=max_epochs)\n",
        "        preds = rec.predict(test_df[['user_id', 'item_id']])\n",
        "        test_err = np.sqrt(mean_squared_error(preds, test_df['rating']))\n",
        "        test_errs[i_fold, i_k] = test_err\n",
        "        train_errs[i_fold, i_k] = rec.error\n",
        "    print()\n",
        "    "
      ],
      "execution_count": 0,
      "outputs": [
        {
          "output_type": "stream",
          "text": [
            "i_fold=0: k=1, k=5, k=10, k=20, k=50, k=90, k=120, \n",
            "i_fold=1: k=1, k=5, k=10, k=20, k=50, k=90, k=120, \n",
            "i_fold=2: k=1, k=5, k=10, k=20, k=50, k=90, k=120, \n",
            "i_fold=3: k=1, k=5, k=10, k=20, k=50, k=90, k=120, \n",
            "i_fold=4: k=1, k=5, k=10, k=20, k=50, k=90, k=120, \n"
          ],
          "name": "stdout"
        }
      ]
    },
    {
      "cell_type": "code",
      "metadata": {
        "id": "mc6PnzDvfc4g",
        "colab_type": "code",
        "outputId": "f01aca56-0762-46f3-db09-ea5f575b8f0b",
        "colab": {
          "base_uri": "https://localhost:8080/",
          "height": 297
        }
      },
      "source": [
        "train_avg = train_errs.mean(axis=0)\n",
        "test_avg = test_errs.mean(axis=0)\n",
        "plt.semilogx(k_list, train_avg, label='Train Error')\n",
        "plt.semilogx(k_list, test_avg, label='K-CV Error')\n",
        "plt.xticks(k_list, k_list)\n",
        "plt.legend()\n",
        "plt.xlabel('k')\n",
        "plt.ylabel('RMSE')\n",
        "plt.title('5-fold CV after {} epochs and for $lr= {}, reg={}$'.format(max_epochs,lr,reg))\n",
        "plt.show()"
      ],
      "execution_count": 0,
      "outputs": [
        {
          "output_type": "display_data",
          "data": {
            "image/png": "[encoded data removed]",
            "text/plain": [
              "<Figure size 432x288 with 1 Axes>"
            ]
          },
          "metadata": {
            "tags": []
          }
        }
      ]
    },
    {
      "cell_type": "markdown",
      "metadata": {
        "id": "BqmAcyXPr2WE",
        "colab_type": "text"
      },
      "source": [
        "###learning rate\n"
      ]
    },
    {
      "cell_type": "code",
      "metadata": {
        "id": "EaEK4PWogZsN",
        "colab_type": "code",
        "outputId": "203865f7-3ca4-4fec-abfe-bba4cfdbeb9d",
        "colab": {
          "base_uri": "https://localhost:8080/",
          "height": 98
        }
      },
      "source": [
        "n_splits = 5\n",
        "max_epochs = 12\n",
        "k = 50\n",
        "reg=0\n",
        "kf = KFold(n_splits=n_splits, random_state=0, shuffle=True)\n",
        "learning_rate_list = [0.00001, 0.0001, 0.001, 0.01]\n",
        "train_errs = np.zeros((n_splits, len(learning_rate_list)))\n",
        "test_errs = np.zeros((n_splits, len(learning_rate_list)))\n",
        "for i_fold, (train_inds, test_inds) in enumerate(kf.split(ratings_df)):\n",
        "    print(\"i_fold={}: \".format(i_fold), end='')\n",
        "    train_df, test_df = ratings_df.iloc[train_inds], ratings_df.iloc[test_inds]\n",
        "    for i_lr, lr in enumerate(learning_rate_list):\n",
        "        print(\"lr={}, \".format(lr), end='')\n",
        "        rec = Biased_SGD(k=k, learning_rate=lr, user_reg=0.0, item_reg=0.0,\n",
        "                         user_bias_reg=0.0, item_bias_reg=0.0, max_epochs=max_epochs)\n",
        "        rec._fit_init(train_df)\n",
        "        rec.fit(train_df, n_epochs=max_epochs)\n",
        "        preds = rec.predict(test_df[['user_id', 'item_id']])\n",
        "        test_err = np.sqrt(mean_squared_error(preds, test_df['rating']))\n",
        "        test_errs[i_fold, i_lr] = test_err\n",
        "        train_errs[i_fold, i_lr] = rec.error\n",
        "    print()"
      ],
      "execution_count": 0,
      "outputs": [
        {
          "output_type": "stream",
          "text": [
            "i_fold=0: lr=1e-05, lr=0.0001, lr=0.001, lr=0.01, \n",
            "i_fold=1: lr=1e-05, lr=0.0001, lr=0.001, lr=0.01, \n",
            "i_fold=2: lr=1e-05, lr=0.0001, lr=0.001, lr=0.01, \n",
            "i_fold=3: lr=1e-05, lr=0.0001, lr=0.001, lr=0.01, \n",
            "i_fold=4: lr=1e-05, lr=0.0001, lr=0.001, lr=0.01, \n"
          ],
          "name": "stdout"
        }
      ]
    },
    {
      "cell_type": "code",
      "metadata": {
        "id": "TrNqsLmWiR07",
        "colab_type": "code",
        "outputId": "c278d31e-5a32-46e4-d2c9-1644d260c2f4",
        "colab": {
          "base_uri": "https://localhost:8080/",
          "height": 297
        }
      },
      "source": [
        "train_avg = train_errs.mean(axis=0)\n",
        "test_avg = test_errs.mean(axis=0)\n",
        "plt.semilogx(learning_rate_list, train_avg, label='Train Error')\n",
        "plt.semilogx(learning_rate_list, test_avg, label='K-CV Error')\n",
        "plt.xticks(learning_rate_list, learning_rate_list)\n",
        "plt.legend()\n",
        "plt.xlabel('Learning rate')\n",
        "plt.ylabel('RMSE')\n",
        "plt.title('5-fold CV after {} epochs and for $reg={}$'.format(max_epochs,reg))\n",
        "plt.show()"
      ],
      "execution_count": 0,
      "outputs": [
        {
          "output_type": "display_data",
          "data": {
            "image/png": "[encoded data removed]",
            "text/plain": [
              "<Figure size 432x288 with 1 Axes>"
            ]
          },
          "metadata": {
            "tags": []
          }
        }
      ]
    },
    {
      "cell_type": "markdown",
      "metadata": {
        "id": "xZLeRPbYr_58",
        "colab_type": "text"
      },
      "source": [
        "###Regularization parameters"
      ]
    },
    {
      "cell_type": "code",
      "metadata": {
        "id": "KynazvV6lNTZ",
        "colab_type": "code",
        "outputId": "04e4cffa-c26a-4adb-84b7-35b411702365",
        "colab": {
          "base_uri": "https://localhost:8080/",
          "height": 82
        }
      },
      "source": [
        "n_splits = 4 #5\n",
        "max_epochs = 12\n",
        "k = 50\n",
        "Lr=0.001\n",
        "kf = KFold(n_splits=n_splits, random_state=0, shuffle=True)\n",
        "regularization_list = [0.01, 0.1, 0.2, 0.3, 0.4, 0.7,1]\n",
        "train_errs = np.zeros((n_splits, len(regularization_list)))\n",
        "test_errs = np.zeros((n_splits, len(regularization_list)))\n",
        "for i_fold, (train_inds, test_inds) in enumerate(kf.split(ratings_df)):\n",
        "    print(\"i_fold={}: \".format(i_fold), end='')\n",
        "    train_df, test_df = ratings_df.iloc[train_inds], ratings_df.iloc[test_inds]\n",
        "    for i_reg, reg in enumerate(regularization_list):\n",
        "        print(\"reg={}, \".format(reg), end='')\n",
        "        rec = Biased_SGD(k=k, learning_rate=lr, user_reg=reg, item_reg=reg,\n",
        "                         user_bias_reg=0.0, item_bias_reg=0.0, max_epochs=max_epochs)\n",
        "        rec._fit_init(train_df)\n",
        "        rec.fit(train_df, n_epochs=max_epochs)\n",
        "        preds = rec.predict(test_df[['user_id', 'item_id']])\n",
        "        test_err = np.sqrt(mean_squared_error(preds, test_df['rating']))\n",
        "        test_errs[i_fold, i_reg] = test_err\n",
        "        train_errs[i_fold, i_reg] = rec.error\n",
        "    print()"
      ],
      "execution_count": 0,
      "outputs": [
        {
          "output_type": "stream",
          "text": [
            "i_fold=0: reg=0.01, reg=0.1, reg=0.2, reg=0.3, reg=0.4, reg=0.7, reg=1, \n",
            "i_fold=1: reg=0.01, reg=0.1, reg=0.2, reg=0.3, reg=0.4, reg=0.7, reg=1, \n",
            "i_fold=2: reg=0.01, reg=0.1, reg=0.2, reg=0.3, reg=0.4, reg=0.7, reg=1, \n",
            "i_fold=3: reg=0.01, reg=0.1, reg=0.2, reg=0.3, reg=0.4, reg=0.7, reg=1, \n"
          ],
          "name": "stdout"
        }
      ]
    },
    {
      "cell_type": "code",
      "metadata": {
        "id": "h3LGIdEIooVr",
        "colab_type": "code",
        "outputId": "01530c80-0709-4875-b285-04d3b3ee7394",
        "colab": {
          "base_uri": "https://localhost:8080/",
          "height": 297
        }
      },
      "source": [
        "train_avg = train_errs.mean(axis=0)\n",
        "test_avg = test_errs.mean(axis=0)\n",
        "plt.semilogx(regularization_list, train_avg, label='Train Error')\n",
        "plt.semilogx(regularization_list, test_avg, label='K-CV Error')\n",
        "plt.xticks(regularization_list, regularization_list)\n",
        "plt.legend()\n",
        "plt.xlabel('user/item regularization parameter')\n",
        "plt.ylabel('RMSE')\n",
        "plt.title('5-fold CV after {} epochs and for $lr= {}, k={}$'.format(max_epochs,lr,k))\n",
        "plt.show()"
      ],
      "execution_count": 0,
      "outputs": [
        {
          "output_type": "display_data",
          "data": {
            "image/png": "[encoded data removed]",
            "text/plain": [
              "<Figure size 432x288 with 1 Axes>"
            ]
          },
          "metadata": {
            "tags": []
          }
        }
      ]
    },
    {
      "cell_type": "markdown",
      "metadata": {
        "id": "i6UoBqfwsFnW",
        "colab_type": "text"
      },
      "source": [
        "###User/item bias\n"
      ]
    },
    {
      "cell_type": "code",
      "metadata": {
        "id": "pjLBiGZsvqxB",
        "colab_type": "code",
        "outputId": "3914b05a-b449-4d0b-d5d7-91b6a1b4b810",
        "colab": {
          "base_uri": "https://localhost:8080/",
          "height": 98
        }
      },
      "source": [
        "n_splits = 5\n",
        "max_epochs = 12\n",
        "k = 50\n",
        "Lr=0.001\n",
        "reg= 0.3\n",
        "kf = KFold(n_splits=n_splits, random_state=0, shuffle=True)\n",
        "user_item_bias_list = [0.001, 0.01, 0.1, 0.2, 0.3, 0.4]\n",
        "train_errs = np.zeros((n_splits, len(user_item_bias_list)))\n",
        "test_errs = np.zeros((n_splits, len(user_item_bias_list)))\n",
        "for i_fold, (train_inds, test_inds) in enumerate(kf.split(ratings_df)):\n",
        "    print(\"i_fold={}: \".format(i_fold), end='')\n",
        "    train_df, test_df = ratings_df.iloc[train_inds], ratings_df.iloc[test_inds]\n",
        "    for i_bias, bias in enumerate(user_item_bias_list):\n",
        "        print(\"bias={}, \".format(bias), end='')\n",
        "        rec = Biased_SGD(k=k, learning_rate=lr, user_reg=reg, item_reg=reg,\n",
        "                         user_bias_reg=bias, item_bias_reg=bias, max_epochs=max_epochs)\n",
        "        rec._fit_init(train_df)\n",
        "        rec.fit(train_df, n_epochs=max_epochs)\n",
        "        preds = rec.predict(test_df[['user_id', 'item_id']])\n",
        "        test_err = np.sqrt(mean_squared_error(preds, test_df['rating']))\n",
        "        test_errs[i_fold, i_bias] = test_err\n",
        "        train_errs[i_fold, i_bias] = rec.error\n",
        "    print()"
      ],
      "execution_count": 0,
      "outputs": [
        {
          "output_type": "stream",
          "text": [
            "i_fold=0: bias=0.001, bias=0.01, bias=0.1, bias=0.2, bias=0.3, bias=0.4, \n",
            "i_fold=1: bias=0.001, bias=0.01, bias=0.1, bias=0.2, bias=0.3, bias=0.4, \n",
            "i_fold=2: bias=0.001, bias=0.01, bias=0.1, bias=0.2, bias=0.3, bias=0.4, \n",
            "i_fold=3: bias=0.001, bias=0.01, bias=0.1, bias=0.2, bias=0.3, bias=0.4, \n",
            "i_fold=4: bias=0.001, bias=0.01, bias=0.1, bias=0.2, bias=0.3, bias=0.4, \n"
          ],
          "name": "stdout"
        }
      ]
    },
    {
      "cell_type": "code",
      "metadata": {
        "id": "NUBa7DpXxQeE",
        "colab_type": "code",
        "outputId": "38805950-958e-4a0e-b7d9-44308d2715c8",
        "colab": {
          "base_uri": "https://localhost:8080/",
          "height": 297
        }
      },
      "source": [
        "train_avg = train_errs.mean(axis=0)\n",
        "test_avg = test_errs.mean(axis=0)\n",
        "plt.semilogx(user_item_bias_list, train_avg, label='Train Error')\n",
        "plt.semilogx(user_item_bias_list, test_avg, label='K-CV Error')\n",
        "plt.xticks(user_item_bias_list, user_item_bias_list)\n",
        "plt.legend()\n",
        "plt.xlabel('user/item bias parameter')\n",
        "plt.ylabel('RMSE')\n",
        "plt.title('5-fold CV after {} epochs and for $lr= {}, reg={}, k= {} $'.format(max_epochs,lr,reg, k))\n",
        "plt.show()"
      ],
      "execution_count": 0,
      "outputs": [
        {
          "output_type": "display_data",
          "data": {
            "image/png": "[encoded data removed]",
            "text/plain": [
              "<Figure size 432x288 with 1 Axes>"
            ]
          },
          "metadata": {
            "tags": []
          }
        }
      ]
    },
    {
      "cell_type": "markdown",
      "metadata": {
        "id": "m4sHr3i5sM3G",
        "colab_type": "text"
      },
      "source": [
        "## Final Test"
      ]
    },
    {
      "cell_type": "code",
      "metadata": {
        "id": "gVC-i63XCxAU",
        "colab_type": "code",
        "colab": {}
      },
      "source": [
        "max_epochs = 12\n",
        "k = 50\n",
        "Lr=0.001\n",
        "reg= 0.3\n",
        "bias= 0.2\n",
        "train_errs = np.zeros(max_epochs)\n",
        "test_errs = np.zeros(max_epochs)\n",
        "rec = Biased_SGD(k=k, learning_rate=lr, user_reg=reg, item_reg=reg,\n",
        "                      user_bias_reg=bias, item_bias_reg=bias, max_epochs=max_epochs)\n",
        "rec._fit_init(ratings_df)\n",
        "for i_epoch in range(max_epochs):\n",
        "  #print(\"i_epoch ={}, \".format(i_epoch), end='')\n",
        "  rec.fit(ratings_df, n_epochs=max_epochs)\n",
        "  preds = rec.predict(test_data[['user_id', 'item_id']])\n",
        "  test_err = np.sqrt(mean_squared_error(preds, test_data['rating']))\n",
        "  test_errs[i_epoch] = test_err\n",
        "  train_errs[i_epoch] = rec.error"
      ],
      "execution_count": 0,
      "outputs": []
    },
    {
      "cell_type": "code",
      "metadata": {
        "id": "IcR29fWxxKfP",
        "colab_type": "code",
        "outputId": "80443cc9-c7e9-46f3-8982-530089019dab",
        "colab": {
          "base_uri": "https://localhost:8080/",
          "height": 33
        }
      },
      "source": [
        "print('Test error : ', test_err,', Train error : ', rec.error)"
      ],
      "execution_count": 0,
      "outputs": [
        {
          "output_type": "stream",
          "text": [
            "Test error :  0.9425145671546351 , Train error :  0.9197783959722362\n"
          ],
          "name": "stdout"
        }
      ]
    },
    {
      "cell_type": "code",
      "metadata": {
        "id": "eJAAQT9es5Bj",
        "colab_type": "code",
        "outputId": "30067b7d-a6f2-49ef-a29b-24257c4b9e85",
        "colab": {
          "base_uri": "https://localhost:8080/",
          "height": 295
        }
      },
      "source": [
        "plt.plot(np.arange(max_epochs), train_errs, label='Train Error')\n",
        "plt.plot(np.arange(max_epochs), test_errs, label='Test Error')\n",
        "plt.legend()\n",
        "plt.xlabel('Epoch')\n",
        "plt.ylabel('RMSE')\n",
        "plt.title('Final Test')\n",
        "plt.show()"
      ],
      "execution_count": 0,
      "outputs": [
        {
          "output_type": "display_data",
          "data": {
            "image/png": "[encoded data removed]",
            "text/plain": [
              "<Figure size 432x288 with 1 Axes>"
            ]
          },
          "metadata": {
            "tags": []
          }
        }
      ]
    }
  ]
}